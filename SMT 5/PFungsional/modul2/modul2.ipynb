{
 "cells": [
  {
   "cell_type": "markdown",
   "metadata": {},
   "source": [
    "```Kode ini terlalu rumit. Ini dimaksudkan untuk pembelajaran; pemrograman fungsional, iterator, generator, dan yield tanpa menggunakan library eksternal apa pun. Tolong jangan gunakan ini dalam produksi, Kamu pasti dapat membuat program yang lebih baik dengan kode yang lebih sedikit dan lebih mudah dibaca daripada ini, karena kami hanya dipaksa untuk menerapkan hal-hal yang tidak sesuai penerapannya untuk program ini.```"
   ]
  },
  {
   "cell_type": "markdown",
   "metadata": {},
   "source": [
    "# Penjelasan Fungsi-Fungsi\n",
    "**Save dan Load Data Pengguna ke text file**<br>\n",
    "sangat-sangat self explanatory"
   ]
  },
  {
   "cell_type": "code",
   "execution_count": null,
   "metadata": {},
   "outputs": [],
   "source": [
    "def save_dict(dic):\n",
    "    f = open('dict.txt','w+')\n",
    "    f.write(str(dic))\n",
    "    f.close()\n",
    "\n",
    "def load_dict():\n",
    "    f = open('dict.txt','r')\n",
    "    data=f.read()\n",
    "    f.close()\n",
    "    return eval(data)"
   ]
  },
  {
   "cell_type": "markdown",
   "metadata": {},
   "source": [
    "**Generator untuk percobaan Ulangan Harian**<br>\n",
    "Generator menghasilkan dan mengingat nilai yang dimasukkan ke dalam fungsi tersebut, dalam hal ini *n* adalah angka awal dan dalam `range(*n*, 0, -1)` artinya adalah misal *n*=3, maka range akan menghitung dari 3, 2, 1. Kemudian fungsi tersebut akan mengembalikan nilai *n*-1, sehingga nilai *n* akan berkurang setiap kali fungsi tersebut dipanggil. Fungsi ini akan berhenti ketika *n* bernilai 1, karena batas bawahnya adalah 0.\n",
    "\n",
    "cara kerja generator ini:<br>\n",
    "``` python\n",
    "a = exam_attempt_generator(3)\n",
    "print(next(a)) # 3\n",
    "print(next(a)) # 2\n",
    "print(next(a)) # 1\n",
    "print(next(a)) # Exception: StopIteration\n",
    "```\n",
    "Exception dapat dihandle untuk menandakan bahwa ulangan harian tidak dapat dilakukan kembali."
   ]
  },
  {
   "cell_type": "code",
   "execution_count": null,
   "metadata": {},
   "outputs": [],
   "source": [
    "def exam_attempt_generator(n):\n",
    "    for i in range(n,0,-1):\n",
    "        yield i\n",
    "\n",
    "def reset_exam_attempt(n=3):\n",
    "    return exam_attempt_generator(n)"
   ]
  },
  {
   "cell_type": "markdown",
   "metadata": {},
   "source": [
    "**Iterator untuk mengiterasi Dictionary**<br>\n",
    "Iterator adalah sebuah class yang dapat mengiterasi objek iterable seperti arraylist, tuple, string, dsb.\n",
    "\n",
    "cara kerja iterator ini:<br>\n",
    "``` python\n",
    "dictionary = [{\"name\": \"si A\", \"age\": 27}, {\"name\": \"si B\", \"age\": 23}]\n",
    "iterator = DictIterator(dictionary)\n",
    "print(next(iterator)) # {\"name\": \"si A\", \"age\": 27}\n",
    "print(next(iterator)) # {\"name\": \"si B\", \"age\": 23}\n",
    "print(next(iterator)) # Exception: StopIteration\n",
    "```\n",
    "Exception dapat dihandle untuk menandakan bahwa iterable sudah habis dan tidak dapat diiterasi lagi."
   ]
  },
  {
   "cell_type": "code",
   "execution_count": null,
   "metadata": {},
   "outputs": [],
   "source": [
    "class DictIterator:\n",
    "    def __init__(self, ext_dict):\n",
    "        self.ext_dict = ext_dict\n",
    "        self.index = 0\n",
    "    def __iter__(self):\n",
    "        return self\n",
    "    def __next__(self):\n",
    "        if self.index == len(self.ext_dict):\n",
    "            raise StopIteration\n",
    "        else:\n",
    "            self.index += 1\n",
    "            return self.ext_dict[self.index - 1]\n",
    "\n",
    "def initiate_dict_iterator(dictionary):\n",
    "    return DictIterator(dictionary)"
   ]
  },
  {
   "cell_type": "markdown",
   "metadata": {},
   "source": [
    "**Menu Untuk Guru**<br>\n",
    "Berisi fungsi-fungsi yang dapat digunakan oleh guru untuk mengelola data siswa, mengelola data pengguna, dan mengelola data nilai siswa sesuai pilihan."
   ]
  },
  {
   "cell_type": "code",
   "execution_count": null,
   "metadata": {},
   "outputs": [],
   "source": [
    "def teacher_menu(pass_attempt_generator):\n",
    "    while True:\n",
    "        print('\\n[Menu Teacher]\\\n",
    "            \\n0.Tampilkan Teachers\\\n",
    "            \\n1.Tampilkan Students\\\n",
    "            \\n2.Tambah Data\\\n",
    "            \\n3.Edit Data\\\n",
    "            \\n4.Hapus Data\\\n",
    "            \\n5.[NEW] Input UH\\\n",
    "            \\n6.IZIN OFF')\n",
    "        pilih = input('Pilih: ')\n",
    "        if pilih == '0':\n",
    "            tampilkan_data('teacher')\n",
    "        elif pilih == '1':\n",
    "            tampilkan_data('student')\n",
    "        elif pilih == '2':\n",
    "            tambah_data()\n",
    "        elif pilih == '3':\n",
    "            edit_data()\n",
    "        elif pilih == '4':\n",
    "            hapus_data()\n",
    "        elif pilih == '5':\n",
    "            input_uh(pass_attempt_generator)\n",
    "        elif pilih == '6':\n",
    "            login(pass_attempt_generator)\n",
    "        else:\n",
    "            print('Invalid Choice')"
   ]
  },
  {
   "cell_type": "markdown",
   "metadata": {},
   "source": [
    "**Menampilkan data**<br>\n",
    "Menampilkan data sesuai kondisi yang ada pada parameter, misal; student, teacher, all (untuk menampilkan seluruh role)."
   ]
  },
  {
   "cell_type": "code",
   "execution_count": null,
   "metadata": {},
   "outputs": [],
   "source": [
    "def tampilkan_data(lihat):\n",
    "    print('\\n[Tampilkan Data]')\n",
    "    for index,i in enumerate(initiate_dict_iterator(load_dict())):\n",
    "        if i['role'] == lihat or lihat == 'all':\n",
    "            print('\\nID: ', index)\n",
    "            print('Nama: ', i['nama'])\n",
    "            if i['role'] != 'teacher':\n",
    "                avg_uh = lambda nilai1, nilai2, nilai3: (nilai1 + nilai2 + nilai3) / 3\n",
    "                print('Nilai UH: ', avg_uh(int(i['nilai_uh_1']), int(i['nilai_uh_2']), int(i['nilai_uh_3'])))\n",
    "                print('Nilai UAS: ', i['nilai_uas'])\n",
    "                nilai_akhir = lambda nilai1, nilai2: (nilai1 + nilai2) / 2\n",
    "                print('Nilai Akhir: ', nilai_akhir(avg_uh(int(i['nilai_uh_1']), int(i['nilai_uh_2']), int(i['nilai_uh_3'])), i['nilai_uas']))"
   ]
  },
  {
   "cell_type": "markdown",
   "metadata": {},
   "source": [
    "**Menambahkan data**<br>\n",
    "Entri data baru berdasarkan role yang dipilih.\n",
    "wajib mengisi role, username, password, nama, lalu nilai apabila tidak diisi akan diisi dengan nilai default."
   ]
  },
  {
   "cell_type": "code",
   "execution_count": null,
   "metadata": {},
   "outputs": [],
   "source": [
    "def tambah_data():\n",
    "    print('\\n[Tambah Data]')\n",
    "    new_role = input('1. Teacher\\n2. Student\\nPilih Role: ') or '2'\n",
    "    while True:\n",
    "        new_username = input('Username: ')\n",
    "        if new_username == '': print('Username tidak boleh kosong')\n",
    "        else: break\n",
    "    while True:\n",
    "        new_password = input('Password: ')\n",
    "        if new_password == '': print('Password tidak boleh kosong')\n",
    "        else: break\n",
    "    while True:\n",
    "        new_nama = input('Nama: ')\n",
    "        if new_nama == '': print('Nama tidak boleh kosong')\n",
    "        else: break\n",
    "    new_uh1 = input('Nilai UH 1 (0): ') or '0'\n",
    "    new_uh2 = input('Nilai UH 2 (0): ') or '0'\n",
    "    new_uh3 = input('Nilai UH 3 (0): ') or '0'\n",
    "    new_uas = input('Nilai UAS (0): ') or '0'\n",
    "    temp_dict = load_dict()\n",
    "    temp_dict.append({\n",
    "        'role': 'student' if new_role == '2' else 'teacher',\n",
    "        'username': new_username,\n",
    "        'password': new_password,\n",
    "        'nama': new_nama,\n",
    "        'nilai_uh_1': int(new_uh1),\n",
    "        'nilai_uh_2': int(new_uh2),\n",
    "        'nilai_uh_3': int(new_uh3),\n",
    "        'nilai_uas': int(new_uas)\n",
    "    })\n",
    "    save_dict(temp_dict)\n",
    "    print('Data berhasil ditambahkan')"
   ]
  },
  {
   "cell_type": "markdown",
   "metadata": {},
   "source": [
    "**Edit data**<br>\n",
    "Edit data berdasarkan ID yang dipilih, sangat self explanatory."
   ]
  },
  {
   "cell_type": "code",
   "execution_count": null,
   "metadata": {},
   "outputs": [],
   "source": [
    "def edit_data():\n",
    "    print('\\n[Edit Data]')\n",
    "    tampilkan_data('all')\n",
    "    print('Pilih id data yang akan diedit')\n",
    "    id = int(input('ID: '))\n",
    "    if id > len(load_dict()) - 1 or id < 0:\n",
    "        print('ID tidak ditemukan')\n",
    "    else :\n",
    "        new_role = input('1. Teacher\\n2. Student\\nPilih Role ('+load_dict()[id][\"role\"]+'): ') or '2'\n",
    "        new_username = input('Username ('+load_dict()[id][\"username\"]+'): ') or load_dict()[id]['username']\n",
    "        new_password = input('Password: ('+load_dict()[id][\"password\"]+')') or load_dict()[id]['password']\n",
    "        new_nama = input('Nama: ('+load_dict()[id][\"nama\"]+')') or load_dict()[id]['nama']\n",
    "        new_uh1 = input('Nilai UH 1: ('+str(load_dict()[id][\"nilai_uh_1\"])+')') or load_dict()[id]['nilai_uh_1']\n",
    "        new_uh2 = input('Nilai UH 2: ('+str(load_dict()[id][\"nilai_uh_2\"])+')') or load_dict()[id]['nilai_uh_2']\n",
    "        new_uh3 = input('Nilai UH 3: ('+str(load_dict()[id][\"nilai_uh_3\"])+')') or load_dict()[id]['nilai_uh_3']\n",
    "        new_uas = input('Nilai UAS: ('+str(load_dict()[id][\"nilai_uas\"])+')') or load_dict()[id]['nilai_uas']\n",
    "        temp_dict=load_dict()\n",
    "        temp_dict[id] = {\n",
    "            'role': 'student' if new_role == '2' else 'teacher', \n",
    "            'username': new_username,\n",
    "            'password': new_password,\n",
    "            'nama': new_nama,\n",
    "            'nilai_uh_1': int(new_uh1),\n",
    "            'nilai_uh_2': int(new_uh2),\n",
    "            'nilai_uh_3': int(new_uh3),\n",
    "            'nilai_uas': int(new_uas)\n",
    "        }\n",
    "        save_dict(temp_dict)\n",
    "        print('Data berhasil diedit')"
   ]
  },
  {
   "cell_type": "markdown",
   "metadata": {},
   "source": [
    "**Hapus Data**<br>\n",
    "Ya ngehapus data berdasarkan ID yang dipilih, sangat self explanatory sekali lagi."
   ]
  },
  {
   "cell_type": "code",
   "execution_count": null,
   "metadata": {},
   "outputs": [],
   "source": [
    "def hapus_data():\n",
    "    print('\\n[Hapus Data]')\n",
    "    tampilkan_data('all')\n",
    "    print('Pilih id data yang akan dihapus')\n",
    "    id = int(input('ID: '))\n",
    "    if id > len(load_dict()) - 1 or id < 0:\n",
    "        print('ID tidak ditemukan')\n",
    "    else :\n",
    "        temp_dict=load_dict()\n",
    "        temp_dict.pop(id)\n",
    "        save_dict(temp_dict)\n",
    "        print('Data berhasil dihapus')"
   ]
  },
  {
   "cell_type": "markdown",
   "metadata": {},
   "source": [
    "**Input Nilai UH**<br>\n",
    "Input nilai UH berdasarkan ID yang dipilih<br>\n",
    "pass_attempt_generator adalah generator yang sudah di-inisiasi sebelumnya pada awal program di fungsi kalibrasi_tanggal(). generator setiap kali melakukan `next(pass_attempt_generator)` akan menghasilkan nilai yang berkurang dari nilai awal (3), sehingga nilai yang diinputkan akan berkurang setiap kali fungsi tersebut dipanggil.\n",
    "\n",
    "Apabila Exception StopIteration terjadi, maka input nilai UH sudah tidak dapat dilakukan lagi hingga tanggal berganti.\n",
    "\n",
    "Setelah perubahan dilakukan, maka dictionary akan disave ke dalam file text."
   ]
  },
  {
   "cell_type": "code",
   "execution_count": null,
   "metadata": {},
   "outputs": [],
   "source": [
    "def input_uh(pass_attempt_generator):\n",
    "    try:\n",
    "        try_attempt = next(pass_attempt_generator)\n",
    "        temp_data = {\n",
    "            \"exam_attempt_left\": try_attempt,\n",
    "            \"last_date\": \"30-01-2020\"\n",
    "        }\n",
    "        f = open('conf.txt','w+')\n",
    "        f.write(str(temp_data))\n",
    "        f.close()\n",
    "    except StopIteration:\n",
    "        print('UH Sudah dilakukan 3 kali, coba lagi besok')\n",
    "        return\n",
    "    except Exception as e:\n",
    "        print('Something went wrong')\n",
    "        return\n",
    "    tampilkan_data('student')\n",
    "    selected_id = int(input('Pilih berdasarkan id UH yang akan diinput'))\n",
    "    temp_dict = load_dict()\n",
    "    if selected_id > len(temp_dict) - 1 or selected_id < 0:\n",
    "        print('ID tidak ditemukan')\n",
    "        return\n",
    "    else:\n",
    "        print(\"Menginput nilai untuk:\", temp_dict[selected_id]['nama'])\n",
    "        if try_attempt == 3: temp_dict[selected_id]['nilai_uh_1'] = input('Input UH ke-1\\nNilai UH ke-1: ')\n",
    "        elif try_attempt == 2: temp_dict[selected_id]['nilai_uh_2'] = input('Input UH ke-2\\nNilai UH ke-2: ')\n",
    "        elif try_attempt == 1: temp_dict[selected_id]['nilai_uh_3'] = input('Input UH ke-3\\nNilai UH ke-3: ')\n",
    "        else:\n",
    "            print('Something went wrong')\n",
    "            return\n",
    "        save_dict(temp_dict)"
   ]
  },
  {
   "cell_type": "markdown",
   "metadata": {},
   "source": [
    "**Menu Student**<br>\n",
    "Menampilkan nilai-nilai siswa dan menghitung nilai akhir menggunakan lambda expression.\n",
    "\n",
    "`student_menu()` juga memiliki parameter `pass_attempt_generator`, agar generator masih bernilai saat perlu memasuki menu login lagi apabila nantinya guru login kembali."
   ]
  },
  {
   "cell_type": "code",
   "execution_count": null,
   "metadata": {},
   "outputs": [],
   "source": [
    "def student_menu(index, pass_attempt_generator):\n",
    "    print('\\n[Student\\'s Data]')\n",
    "    print('Nama: ', load_dict()[index]['nama'])\n",
    "    avg_uh = lambda nilai1, nilai2, nilai3: (nilai1 + nilai2 + nilai3) / 3\n",
    "    avg_uh_result = avg_uh(int(load_dict()[index]['nilai_uh_1']), int(load_dict()[index]['nilai_uh_2']), int(load_dict()[index]['nilai_uh_3']))\n",
    "    print('Nilai UH: ', avg_uh_result)\n",
    "    print('Nilai UAS: ', load_dict()[index]['nilai_uas'],'\\n')    \n",
    "    nilai_akhir = lambda nilai1, nilai2: (nilai1 + nilai2) / 2\n",
    "    print('Nilai Akhir: ', nilai_akhir(avg_uh_result, load_dict()[index]['nilai_uas']))\n",
    "    login(pass_attempt_generator)"
   ]
  },
  {
   "cell_type": "markdown",
   "metadata": {},
   "source": [
    "**Login**<br>\n",
    "Skuy skuy skuy\n"
   ]
  },
  {
   "cell_type": "code",
   "execution_count": null,
   "metadata": {},
   "outputs": [],
   "source": [
    "def login(pass_attempt_generator):\n",
    "    while True:\n",
    "        username = input('\\n[Login]\\nUsername: ')\n",
    "        password = input('Password: ')\n",
    "        for index,i in enumerate(load_dict()):\n",
    "            if i['username'] == username and i['password'] == password:\n",
    "                login_splitter = lambda role: teacher_menu(pass_attempt_generator) if role == 'teacher' else student_menu(index, pass_attempt_generator)\n",
    "                login_splitter(i['role'])\n",
    "                return"
   ]
  },
  {
   "cell_type": "markdown",
   "metadata": {},
   "source": [
    "**Kalibrasi Tanggal**<br>\n",
    "Setiap kali program berjalan, tanggal harus dicocokan dengan tanggal terakhir.\n",
    "apabila tanggal berubah, maka attempt input nilai UH akan direset.\n",
    "apabila tanggal tidak berubah, maka attempt input nilai UH akan tetap mengikuti jumlah attempt terakhir yang telah disave ke conf.txt.\n",
    "\n",
    "conf.txt berisi tanggal terakhir dan sisa attempt terakhir yang telah dilakukan.\n",
    "\n",
    "`kalibrasi_tanggal()` menyalurkan variabel `pass_attempt_generator` ke parameter login() agar generator masih bernilai saat perlu memasuki menu login dan dapat digunakan oleh guru saat memasuki menu input nilai UH."
   ]
  },
  {
   "cell_type": "code",
   "execution_count": null,
   "metadata": {},
   "outputs": [],
   "source": [
    "def kalibrasi_tanggal():\n",
    "    f = open('conf.txt', 'r')\n",
    "    conf = f.read()\n",
    "    print(\"Tanggal Terakhir:\",eval(conf)['last_date'])\n",
    "    new_tanggal = input(\"Masukkan Tanggal(\"+eval(conf)['last_date']+\"):\") or eval(conf)['last_date']\n",
    "    if new_tanggal == eval(conf)['last_date']:\n",
    "        pass_attempt_generator = reset_exam_attempt(int(eval(conf)['exam_attempt_left']))\n",
    "    else:\n",
    "        temp_data = {\n",
    "            \"exam_attempt_left\": 3,\n",
    "            \"last_date\": new_tanggal\n",
    "        }\n",
    "        f = open('conf.txt','w+')\n",
    "        f.write(str(temp_data))\n",
    "        f.close()\n",
    "        print(\"Nilai UH Reset!\")\n",
    "        pass_attempt_generator = reset_exam_attempt(3)\n",
    "    login(pass_attempt_generator)"
   ]
  },
  {
   "cell_type": "markdown",
   "metadata": {},
   "source": [
    "**Menjalankan Program**<br>\n",
    "Menjalankan program dengan memanggil fungsi kalibrasi_tanggal()."
   ]
  },
  {
   "cell_type": "code",
   "execution_count": null,
   "metadata": {},
   "outputs": [],
   "source": [
    "kalibrasi_tanggal()"
   ]
  }
 ],
 "metadata": {
  "kernelspec": {
   "display_name": "Python 3.10.7 64-bit",
   "language": "python",
   "name": "python3"
  },
  "language_info": {
   "name": "python",
   "version": "3.10.7"
  },
  "orig_nbformat": 4,
  "vscode": {
   "interpreter": {
    "hash": "059d60f570b090535bd0e4d7ff3e25700e5c10ff005ff3510deda8abd3156e5b"
   }
  }
 },
 "nbformat": 4,
 "nbformat_minor": 2
}
